{
 "cells": [
  {
   "cell_type": "code",
   "execution_count": 2,
   "metadata": {},
   "outputs": [
    {
     "name": "stdout",
     "output_type": "stream",
     "text": [
      "4\n"
     ]
    }
   ],
   "source": [
    "#HCF\n",
    "x=12\n",
    "y=8\n",
    "if x > y:\n",
    "    smaller = y\n",
    "else:\n",
    "    smaller = x\n",
    "for i in range(1,smaller + 1):\n",
    "    if((x % i == 0) and (y % i == 0)):\n",
    "        hcf = i\n",
    "print(hcf)"
   ]
  },
  {
   "cell_type": "code",
   "execution_count": 3,
   "metadata": {},
   "outputs": [
    {
     "name": "stdout",
     "output_type": "stream",
     "text": [
      "24\n"
     ]
    }
   ],
   "source": [
    "#LCM\n",
    "x=12\n",
    "y=8\n",
    "if x > y:\n",
    "    greater = x\n",
    "else:\n",
    "    greater = y\n",
    "while(True):\n",
    "    if((greater % x == 0) and (greater % y == 0)):\n",
    "        lcm = greater\n",
    "        break\n",
    "    greater += 1\n",
    "print(lcm)"
   ]
  },
  {
   "cell_type": "code",
   "execution_count": 9,
   "metadata": {},
   "outputs": [
    {
     "name": "stdout",
     "output_type": "stream",
     "text": [
      "Enter number 1: 220\n",
      "Enter number 2: 284\n",
      "Amicable!\n"
     ]
    }
   ],
   "source": [
    "#amicable number\n",
    "x=int(input('Enter number 1: '))\n",
    "y=int(input('Enter number 2: '))\n",
    "sum1=0\n",
    "sum2=0\n",
    "for i in range(1,x):\n",
    "     if x%i==0:\n",
    "         sum1+=i\n",
    "for j in range(1,y):\n",
    "     if y%j==0:\n",
    "         sum2+=j\n",
    "if(sum1==y and sum2==x):\n",
    "     print('Amicable!')\n",
    "else:\n",
    "     print('Not Amicable!')\n"
   ]
  },
  {
   "cell_type": "code",
   "execution_count": 11,
   "metadata": {},
   "outputs": [
    {
     "name": "stdout",
     "output_type": "stream",
     "text": [
      "Enter a number:145\n",
      "The number is a strong number\n"
     ]
    }
   ],
   "source": [
    "#strong number\n",
    "sum1=0\n",
    "num=int(input(\"Enter a number:\"))\n",
    "temp=num\n",
    "while(num):\n",
    "     i=1\n",
    "     f=1\n",
    "     r=num%10\n",
    "     while(i<=r):\n",
    "         f=f*i\n",
    "         i=i+1\n",
    "     sum1=sum1+f\n",
    "     num=num//10\n",
    "if(sum1==temp):\n",
    " print(\"The number is a strong number\")\n",
    "else:\n",
    " print(\"The number is not a strong number\")"
   ]
  },
  {
   "cell_type": "code",
   "execution_count": 1,
   "metadata": {},
   "outputs": [
    {
     "name": "stdout",
     "output_type": "stream",
     "text": [
      "Enter amount: 10000\n",
      "Enter time: 1\n",
      "Enter rate: 6.5\n",
      "Simple interest is: 650.000000\n",
      "Compound interest is: 650.000000\n"
     ]
    }
   ],
   "source": [
    "# WAP to calculateSimple and Compound Interest\n",
    "\n",
    "principal = float(input('Enter amount: '))\n",
    "time = float(input('Enter time: '))\n",
    "rate = float(input('Enter rate: '))\n",
    "\n",
    "simple_interest = (principal*time*rate)/100\n",
    "compound_interest = principal * ( (1+rate/100)**time - 1)\n",
    "\n",
    "print('Simple interest is: %f' % (simple_interest))\n",
    "print('Compound interest is: %f' %(compound_interest))"
   ]
  },
  {
   "cell_type": "code",
   "execution_count": 24,
   "metadata": {},
   "outputs": [
    {
     "name": "stdout",
     "output_type": "stream",
     "text": [
      "Enter seconds: 7365\n",
      "seconds value in hours: 2\n",
      "seconds value in minutes: 2\n",
      "Time is:  2 : 2 : 45\n"
     ]
    }
   ],
   "source": [
    "#Program to convert seconds into hour:min:seconds format.\n",
    "\n",
    "sec = int(input(\"Enter seconds: \"))\n",
    "hour = sec // 3600\n",
    "sec %= 3600\n",
    "min = sec // 60\n",
    "sec %= 60\n",
    "print(\"seconds value in hours:\",hour)\n",
    "print(\"seconds value in minutes:\",min)\n",
    "print(\"Time is: \",hour,\":\",min,\":\",sec)"
   ]
  },
  {
   "cell_type": "code",
   "execution_count": 9,
   "metadata": {},
   "outputs": [
    {
     "name": "stdout",
     "output_type": "stream",
     "text": [
      "Enter a number n: 15\n",
      "The value is: 153045\n"
     ]
    }
   ],
   "source": [
    "#Python Program to Read a Number n and Compute n+nn+nnn\n",
    "\n",
    "n=int(input(\"Enter a number n: \"))\n",
    "temp=str(n)\n",
    "t1=temp+temp\n",
    "t2=temp+temp+temp\n",
    "comp=n+int(t1)+int(t2)\n",
    "print(\"The value is:\",comp)"
   ]
  },
  {
   "cell_type": "code",
   "execution_count": 25,
   "metadata": {},
   "outputs": [
    {
     "name": "stdout",
     "output_type": "stream",
     "text": [
      "Equation: ax^2 + bx + c \n",
      "Enter a: 6\n",
      "Enter b: 8\n",
      "Enter c: 2\n",
      "The first root:  -12.0\n",
      "The second root:  -36.0\n"
     ]
    }
   ],
   "source": [
    "#Python Program to Find the Roots of a Quadratic Equation\n",
    "\n",
    "print(\"Equation: ax^2 + bx + c \")\n",
    "a=int(input(\"Enter a: \"))\n",
    "b=int(input(\"Enter b: \"))\n",
    "c=int(input(\"Enter c: \"))\n",
    "d=b**2-4*a*c\n",
    "d1=d**0.5\n",
    "if(d<0):\n",
    "    print(\"The roots are imaginary. \")\n",
    "else:\n",
    "    r1=(-b+d1)/2*a\n",
    "    r2=(-b-d1)/2*a\n",
    "    print(\"The first root: \",round(r1,2))\n",
    "    print(\"The second root: \",round(r2,2))"
   ]
  },
  {
   "cell_type": "code",
   "execution_count": 22,
   "metadata": {
    "scrolled": true
   },
   "outputs": [
    {
     "name": "stdout",
     "output_type": "stream",
     "text": [
      "Enter 1st No.: 15\n",
      "Enter 2nd No.: 2\n",
      "Enter 3rd No.: -23\n",
      "Ascending Order: -23 2 15\n",
      "Descending Order: 15 2 -23\n"
     ]
    }
   ],
   "source": [
    "\"\"\"Take three variables and get their values from the user. \n",
    "Without using any sorting functions or Python builtin data structures (lists, tuples, dictionaries, etc.), \n",
    "sort these numbers in ascending and descending orders.\"\"\"\n",
    "\n",
    "a=int(input(\"Enter 1st No.: \"))\n",
    "b=int(input(\"Enter 2nd No.: \"))\n",
    "c=int(input(\"Enter 3rd No.: \"))\n",
    "\n",
    "if a<b and a<c:\n",
    "    if b<c:\n",
    "        x,y,z=a,b,c\n",
    "    else:\n",
    "        x,y,z=a,c,b\n",
    "elif b<a and b<c:\n",
    "    if a<c:\n",
    "        x,y,z=b,a,c\n",
    "    else:\n",
    "        x,y,z=b,c,a\n",
    "elif c<a and c<b:\n",
    "    if b<a:\n",
    "        x,y,z=c,b,a\n",
    "    else:\n",
    "        x,y,z=c,a,b\n",
    "else:\n",
    "    print(\"Enter correct input\")\n",
    "\n",
    "print(\"Ascending Order:\",x,y,z)\n",
    "print(\"Descending Order:\",z,y,x)"
   ]
  },
  {
   "cell_type": "code",
   "execution_count": 4,
   "metadata": {},
   "outputs": [
    {
     "name": "stdout",
     "output_type": "stream",
     "text": [
      "Enter value less than 1 dollar: 0.97\n",
      "3 quarters,2 dimes,2 pennies\n"
     ]
    }
   ],
   "source": [
    "\"\"\"Calculate the number of basic American coins given a value less than 1 dollar. A penny is worth 1 cent, a\n",
    "nickel is worth 5 cents, a dime is worth 10 cents, and a\n",
    "quarter is worth 25 cents. It takes 100 cents to make 1 dollar. So given an amount less than 1 dollar (if using\n",
    "floats, convert to integers for this exercise), calculate the number of each type of coin necessary to achieve\n",
    "the amount, maximizing the number of larger denomination coins. For example, given $0.76, or 76 cents, the\n",
    "correct output would be “3 quarters and 1 penny.” Output such as “76 pennies” and “2 quarters, 2 dimes, 1\n",
    "nickel, and 1 penny” are not acceptable.\"\"\"\n",
    "\n",
    "dollar=float(input(\"Enter value less than 1 dollar: \"))\n",
    "if 0<dollar<1:\n",
    "    cent=int(dollar*100)\n",
    "    if cent>=25:\n",
    "        quarter=cent//25\n",
    "        cent %= 25\n",
    "        print(quarter,\"quarters\",end=\",\")\n",
    "    if cent>=10:\n",
    "        dime=cent//10\n",
    "        cent %=10\n",
    "        print(dime,\"dimes\",end=\",\")\n",
    "    if cent>=5:\n",
    "        nickel=cent//5\n",
    "        cent %=5\n",
    "        print(nickel,\"nickels\",end=\",\")\n",
    "    if cent>=1:\n",
    "        penny=cent\n",
    "        print(penny,\"pennies\")\n",
    "else:\n",
    "    print(\"Enter correct value\")"
   ]
  },
  {
   "cell_type": "code",
   "execution_count": 1,
   "metadata": {},
   "outputs": [
    {
     "ename": "SyntaxError",
     "evalue": "invalid syntax (<ipython-input-1-7d8479a023c8>, line 1)",
     "output_type": "error",
     "traceback": [
      "\u001b[1;36m  File \u001b[1;32m\"<ipython-input-1-7d8479a023c8>\"\u001b[1;36m, line \u001b[1;32m1\u001b[0m\n\u001b[1;33m    abc=1000 2000\u001b[0m\n\u001b[1;37m             ^\u001b[0m\n\u001b[1;31mSyntaxError\u001b[0m\u001b[1;31m:\u001b[0m invalid syntax\n"
     ]
    }
   ],
   "source": [
    "abc=1000 2000"
   ]
  },
  {
   "cell_type": "code",
   "execution_count": 5,
   "metadata": {
    "scrolled": true
   },
   "outputs": [
    {
     "name": "stdout",
     "output_type": "stream",
     "text": [
      "Enter Number or 'done' to stop2\n",
      "Enter Number or 'done' to stop3\n",
      "Enter Number or 'done' to stop5\n",
      "Enter Number or 'done' to stop-3\n",
      "Enter Number or 'done' to stop0\n",
      "Enter Number or 'done' to stop5\n",
      "Enter Number or 'done' to stopdone\n",
      "Average: 2.0\n",
      "Minimum Number: -3\n",
      "Maximum Number 5\n"
     ]
    }
   ],
   "source": [
    "\"\"\"Write a Python program that prompts the user to enter numbers and stops only when the user enters “done”.\n",
    "After this, print the average of the numbers and the minimum number and the maximum number from\n",
    "among all the numbers entered by the user.\n",
    "Note: You are not allowed to use any built-in structures like lists, tuples, etc. or any built-in functions like\n",
    "max, min, etc.\n",
    "E.g., if the user enters: 3, 4, 1, 6 ,“done”\n",
    "The program should print the\n",
    "Average: 3.5\n",
    "Minimum Number: 1\n",
    "Maximum Number: 6\"\"\"\n",
    "count=sum=0\n",
    "while(True):\n",
    "    n=input(\"Enter Number or 'done' to stop\")\n",
    "    if n=='done':\n",
    "        break\n",
    "    n=int(n)\n",
    "    count+=1\n",
    "    if count==1:\n",
    "        min=max=n\n",
    "    sum += n\n",
    "    if n>max:\n",
    "        max=n\n",
    "    if n<min:\n",
    "        min=n\n",
    "print(\"Average:\",sum/count)\n",
    "print(\"Minimum Number:\",min)\n",
    "print(\"Maximum Number\",max)"
   ]
  },
  {
   "cell_type": "code",
   "execution_count": 7,
   "metadata": {},
   "outputs": [
    {
     "name": "stdout",
     "output_type": "stream",
     "text": [
      "enter no.: 60\n",
      "2 3 5 "
     ]
    }
   ],
   "source": [
    "#WAP to find prime factors of a given number by user\n",
    "n=int(input(\"enter no.: \"))\n",
    "for i in range(2,n+1):\n",
    "    if n%i==0:\n",
    "        flag=0\n",
    "    for j in range(2,i):\n",
    "        if i%j==0:\n",
    "            flag=1\n",
    "    if flag==0:\n",
    "        print(i,end=\" \")"
   ]
  },
  {
   "cell_type": "code",
   "execution_count": 6,
   "metadata": {},
   "outputs": [
    {
     "name": "stdout",
     "output_type": "stream",
     "text": [
      "Enter the lower range:1\n",
      "Enter the upper range:1000\n",
      "35 70 105 140 175 210 245 280 315 350 385 420 455 490 525 560 595 630 665 700 735 770 805 840 875 910 945 980 "
     ]
    }
   ],
   "source": [
    "#Python Program to Find Numbers which are Divisible by 7 and Multiple of 5 in a Given Range\n",
    "\n",
    "lower=int(input(\"Enter the lower range:\"))\n",
    "upper=int(input(\"Enter the upper range:\"))\n",
    "for i in range (lower,upper+1):\n",
    "    if(i%7==0 and i%5==0):\n",
    "        print(i,end=\" \")"
   ]
  },
  {
   "cell_type": "code",
   "execution_count": 18,
   "metadata": {},
   "outputs": [
    {
     "name": "stdout",
     "output_type": "stream",
     "text": [
      "Enter any number: 6\n",
      "The number is a Perfect number!\n"
     ]
    }
   ],
   "source": [
    "#Python Program to Check Whether a Given Number is Perfect Number\n",
    "#if sum of divisiors of the number=the number, it is known as perfect number\n",
    "#for ex. 6= 1+2+3, so 6 is perfect number\n",
    "\n",
    "n = int(input(\"Enter any number: \"))\n",
    "sum1 = 0\n",
    "for i in range(1, n):\n",
    "    if(n % i == 0):\n",
    "        sum1 = sum1 + i\n",
    "if (sum1 == n):\n",
    "    print(\"The number is a Perfect number!\")\n",
    "else:\n",
    "    print(\"The number is not a Perfect number!\")"
   ]
  },
  {
   "cell_type": "code",
   "execution_count": 19,
   "metadata": {},
   "outputs": [
    {
     "name": "stdout",
     "output_type": "stream",
     "text": [
      "Enter a number:145\n",
      "The number is a strong number\n"
     ]
    }
   ],
   "source": [
    "#Python Program to Check if a Number is a Strong Number\n",
    "#if 123..n=1!+2!+3!+...+n!, then it is strong number\n",
    "\n",
    "sum1=0\n",
    "num=int(input(\"Enter a number:\"))\n",
    "temp=num\n",
    "while(num):\n",
    "    i=1\n",
    "    f=1\n",
    "    r=num%10\n",
    "    while(i<=r):\n",
    "        f=f*i\n",
    "        i=i+1\n",
    "    sum1=sum1+f\n",
    "    num=num//10\n",
    "if(sum1==temp):\n",
    "    print(\"The number is a strong number\")\n",
    "else:\n",
    "    print(\"The number is not a strong number\")"
   ]
  },
  {
   "cell_type": "code",
   "execution_count": 20,
   "metadata": {},
   "outputs": [
    {
     "name": "stdout",
     "output_type": "stream",
     "text": [
      "Enter number 1: 284\n",
      "Enter number 2: 220\n",
      "Amicable!\n"
     ]
    }
   ],
   "source": [
    "#Python Program to Check If Two Numbers are Amicable Numbers or Not\n",
    "#Find the sum of the proper divisors of both the numbers.\n",
    "#Check if the sum of the proper divisors is equal to the opposite numbers.\n",
    "#If they are equal, they are amicable numbers.\n",
    "\n",
    "x=int(input('Enter number 1: '))\n",
    "y=int(input('Enter number 2: '))\n",
    "sum1=0\n",
    "sum2=0\n",
    "for i in range(1,x):\n",
    "    if x%i==0:\n",
    "        sum1+=i\n",
    "for j in range(1,y):\n",
    "    if y%j==0:\n",
    "        sum2+=j\n",
    "if(sum1==y and sum2==x):\n",
    "    print('Amicable!')\n",
    "else:\n",
    "    print('Not Amicable!')"
   ]
  },
  {
   "cell_type": "markdown",
   "metadata": {},
   "source": [
    "# 1st Method"
   ]
  },
  {
   "cell_type": "code",
   "execution_count": 11,
   "metadata": {},
   "outputs": [
    {
     "name": "stdout",
     "output_type": "stream",
     "text": [
      "Enter No.: 30502\n",
      "31512\n"
     ]
    }
   ],
   "source": [
    "#Take a number as user input. replace digit 0 with digit 1 in that number and print new number\n",
    "#for ex. 2030 should print 2131.\n",
    "\n",
    "i=int(input(\"Enter No.: \"))\n",
    "rev=0\n",
    "updated_num=0\n",
    "while i>0:\n",
    "    r=i%10\n",
    "    if r == 0:\n",
    "        r=1\n",
    "    rev=rev*10+r\n",
    "    i=i//10\n",
    "while rev>0:\n",
    "    rem=rev%10\n",
    "    updated_num=updated_num*10+rem\n",
    "    rev=rev//10\n",
    "print(updated_num)"
   ]
  },
  {
   "cell_type": "markdown",
   "metadata": {},
   "source": [
    "# 2nd Method"
   ]
  },
  {
   "cell_type": "code",
   "execution_count": 13,
   "metadata": {},
   "outputs": [
    {
     "name": "stdout",
     "output_type": "stream",
     "text": [
      "Enter No.: 30502\n",
      "31512\n"
     ]
    }
   ],
   "source": [
    "#Take a number as user input. replace digit 0 with digit 1 in that number and print new number\n",
    "#for ex. 2030 should print 2131.\n",
    "\n",
    "n=int(input(\"Enter No.: \"))\n",
    "temp=n\n",
    "count=0\n",
    "while n != 0:\n",
    "    r=n%10\n",
    "    if r==0:\n",
    "        temp=temp+1*(10**count) #you can change any number with 0 by changing 1(with whatever number) in this line \n",
    "    count+=1\n",
    "    n //=10\n",
    "print(temp)"
   ]
  },
  {
   "cell_type": "code",
   "execution_count": 27,
   "metadata": {},
   "outputs": [
    {
     "name": "stdout",
     "output_type": "stream",
     "text": [
      "Enter the number of terms: 3\n",
      "The sum of series is 1.67\n"
     ]
    }
   ],
   "source": [
    "#Python Program to Find the Sum of the Series 1/1!+1/2!+1/3!+…1/N!\n",
    "\n",
    "n=int(input(\"Enter the number of terms: \"))\n",
    "sum1=0\n",
    "fact=1\n",
    "for i in range(1,n+1):\n",
    "    fact=fact*i\n",
    "    sum1=sum1+(1/fact)\n",
    "print(\"The sum of series is\",round(sum1,2))\n"
   ]
  },
  {
   "cell_type": "code",
   "execution_count": 28,
   "metadata": {},
   "outputs": [
    {
     "name": "stdout",
     "output_type": "stream",
     "text": [
      "Enter the number of terms:6\n",
      "Enter the value of x:3\n",
      "The sum of series is 204.85\n"
     ]
    }
   ],
   "source": [
    "#Python Program to Find the Sum of the Series: 1 + x^2/2 + x^3/3 + … x^n/n\n",
    "\n",
    "n=int(input(\"Enter the number of terms:\"))\n",
    "x=int(input(\"Enter the value of x:\"))\n",
    "sum1=1\n",
    "for i in range(2,n+1):\n",
    "    sum1=sum1+((x**i)/i)\n",
    "print(\"The sum of series is\",round(sum1,2))"
   ]
  },
  {
   "cell_type": "code",
   "execution_count": 17,
   "metadata": {},
   "outputs": [
    {
     "name": "stdout",
     "output_type": "stream",
     "text": [
      "Enter the first number:4\n",
      "Enter the second number:5\n",
      "LCM is: 20\n"
     ]
    }
   ],
   "source": [
    "#Python Program to Find the LCM of Two Numbers\n",
    "\n",
    "a=int(input(\"Enter the first number:\"))\n",
    "b=int(input(\"Enter the second number:\"))\n",
    "if(a>b):\n",
    "    min1=a\n",
    "else:\n",
    "    min1=b\n",
    "while(True):\n",
    "    if(min1%a==0 and min1%b==0):\n",
    "        print(\"LCM is:\",min1)\n",
    "        break\n",
    "    min1=min1+1"
   ]
  },
  {
   "cell_type": "markdown",
   "metadata": {},
   "source": [
    "# 1st Method"
   ]
  },
  {
   "cell_type": "code",
   "execution_count": 17,
   "metadata": {},
   "outputs": [
    {
     "name": "stdout",
     "output_type": "stream",
     "text": [
      "Enter date: 28\n",
      "Enter month: 2\n",
      "Enter year: 2022\n",
      "1 / 3 / 2022\n"
     ]
    }
   ],
   "source": [
    "#Write a program to read a date from user and print the date of a next day.\n",
    "#Also check if the entered date is correct or not.\n",
    "\n",
    "day=int(input(\"Enter date: \"))\n",
    "month=int(input(\"Enter month: \"))\n",
    "year=int(input(\"Enter year: \"))\n",
    "\n",
    "if month==12 and day==31:\n",
    "    month=1\n",
    "    year+=1\n",
    "    day=1\n",
    "elif (month==1 or month==3 or month==5 or month==7 or month==8 or month==10) and day==31:\n",
    "    month+=1\n",
    "    day=1\n",
    "elif (month==4 or month==6 or month==9 or month==11) and day==30:\n",
    "    month+=1\n",
    "    day=1\n",
    "elif month==2 and (day==28 or day==29):\n",
    "    if ((year % 400 == 0) or (year % 100 != 0) and (year % 4 == 0)):\n",
    "        if day==28:\n",
    "            day+=1\n",
    "        else:\n",
    "            day=1\n",
    "            month+=1\n",
    "    elif day==29:\n",
    "        day+=1\n",
    "    else:\n",
    "        day=1\n",
    "        month+=1\n",
    "else:\n",
    "    day+=1   \n",
    "if 1<=day<=31 and 1<=month<=12 and month!=2:\n",
    "    print(day,\"/\",month,\"/\",year)\n",
    "elif month==2 and 1<=day<=29:\n",
    "    print(day,\"/\",month,\"/\",year)\n",
    "else:\n",
    "    print(\"enter correct date\")"
   ]
  },
  {
   "cell_type": "markdown",
   "metadata": {},
   "source": [
    "# 2nd Method"
   ]
  },
  {
   "cell_type": "code",
   "execution_count": 2,
   "metadata": {
    "scrolled": false
   },
   "outputs": [
    {
     "name": "stdout",
     "output_type": "stream",
     "text": [
      "Enter date: 30\n",
      "Enter month: 4\n",
      "Enter year: 2020\n",
      "The incremented date is:  1 5 2020\n"
     ]
    }
   ],
   "source": [
    "#Write a program to read a date from user and print the date of a next day.\n",
    "#Also check if the entered date is correct or not.\n",
    "\n",
    "dd=int(input(\"Enter date: \"))\n",
    "mm=int(input(\"Enter month: \"))\n",
    "yy=int(input(\"Enter year: \"))\n",
    "if(mm==1 or mm==3 or mm==5 or mm==7 or mm==8 or mm==10 or mm==12):\n",
    "    max1=31\n",
    "elif(mm==4 or mm==6 or mm==9 or mm==11):\n",
    "    max1=30\n",
    "elif(yy%4==0 and yy%100!=0 or yy%400==0):\n",
    "    max1=29\n",
    "else:\n",
    "    max1=28\n",
    "if(mm<1 or mm>12):\n",
    "    print(\"Date is invalid.\")\n",
    "elif(dd<1 or dd>max1):\n",
    "    print(\"Date is invalid.\")\n",
    "elif(dd==max1 and mm!=12):\n",
    "    dd=1\n",
    "    mm=mm+1\n",
    "    print(\"The incremented date is: \",dd,mm,yy)\n",
    "elif(dd==31 and mm==12):\n",
    "    dd=1\n",
    "    mm=1\n",
    "    yy=yy+1\n",
    "    print(\"The incremented date is: \",dd,mm,yy)\n",
    "else:\n",
    "    dd=dd+1\n",
    "    print(\"The incremented date is: \",dd,mm,yy)"
   ]
  },
  {
   "cell_type": "markdown",
   "metadata": {},
   "source": [
    "# 1st Method"
   ]
  },
  {
   "cell_type": "code",
   "execution_count": 5,
   "metadata": {},
   "outputs": [
    {
     "name": "stdout",
     "output_type": "stream",
     "text": [
      "enter hour :12\n",
      "enter am or pm:am\n",
      "How many hours ahead ?:12\n",
      "New hour : 12pm\n"
     ]
    }
   ],
   "source": [
    "\"\"\"Write a program that asks the user for an hour between 1 and 12, \n",
    "asks them to enter am or pm, and asks them how many hours into the future they want to go. \n",
    "Print out what the hour will be that many hours into the future, printing am or pm as appropriate. An example is shown below.\n",
    "Enter hour: 8\n",
    "am (1) or pm (2)? 1\n",
    "How many hours ahead? 5\n",
    "New hour: 1 pm\"\"\"\n",
    "\n",
    "user = int(input('enter hour :'))\n",
    "day = input('enter am or pm:')\n",
    "hour = int(input('How many hours ahead ?:'))\n",
    "\n",
    "if user<0 or user>12 or (day!='am' and day!='pm'):\n",
    "    print(\"Enter correct time\")\n",
    "else:\n",
    "    if day == 'pm' and user!=12:\n",
    "        user += 12;\n",
    "    elif day == 'am' and user == 12:\n",
    "        user = 0;\n",
    "\n",
    "    new_hour = user + hour;\n",
    "    new_hour = new_hour % 24;\n",
    "\n",
    "\n",
    "    if new_hour >= 0 and new_hour <12:\n",
    "        if new_hour == 0:\n",
    "            new_hour = 12;\n",
    "        print(f'New hour : {new_hour}', end='am')\n",
    "        print()\n",
    "    else:\n",
    "        new_hour = new_hour % 12;\n",
    "        if new_hour == 0:\n",
    "            new_hour = 12 ;\n",
    "        print(f'New hour : {new_hour}', end='pm')\n",
    "        print()"
   ]
  },
  {
   "cell_type": "markdown",
   "metadata": {},
   "source": [
    "# 2nd Method"
   ]
  },
  {
   "cell_type": "code",
   "execution_count": 4,
   "metadata": {},
   "outputs": [
    {
     "name": "stdout",
     "output_type": "stream",
     "text": [
      "enter hour :12\n",
      "enter am or pm:am\n",
      "How many hours ahead ?:12\n",
      "12 PM\n"
     ]
    }
   ],
   "source": [
    "\"\"\"Write a program that asks the user for an hour between 1 and 12, \n",
    "asks them to enter am or pm, and asks them how many hours into the future they want to go. \n",
    "Print out what the hour will be that many hours into the future, printing am or pm as appropriate. An example is shown below.\n",
    "Enter hour: 8\n",
    "am (1) or pm (2)? 1\n",
    "How many hours ahead? 5\n",
    "New hour: 1 pm\"\"\"\n",
    "\n",
    "user = int(input('enter hour :'))\n",
    "day = input('enter am or pm:')\n",
    "hour = int(input('How many hours ahead ?:'))\n",
    "\n",
    "if user<0 or user>12 or (day!='am' and day!='pm'):\n",
    "    print(\"Enter correct time\")\n",
    "else:\n",
    "    for i in range(1,hour+1):\n",
    "        user+=1\n",
    "        if user>12:\n",
    "            user=user-12\n",
    "        if user==12:\n",
    "            if day=='am':\n",
    "                day='pm'\n",
    "            else:\n",
    "                day='am'\n",
    "    if day=='am':\n",
    "        print(hour,'AM')\n",
    "    else:\n",
    "        print(hour,'PM')"
   ]
  },
  {
   "cell_type": "code",
   "execution_count": 1,
   "metadata": {},
   "outputs": [
    {
     "name": "stdout",
     "output_type": "stream",
     "text": [
      "Welcome to PG eligibility checker\n",
      "Enter the percentage obtained in class X(Please enter without '%' symbol): 81\n",
      "Enter the percentage obtained in class XII(Please enter without '%' symbol): 83\n",
      "Enter the percentage obtained in class Graduation(Please enter without '%' symbol): 76\n",
      "Stream selected for Graduation: science\n",
      "Stream selecting for Post Graduation: arts\n",
      "Congratulation you are eligible to apply for PG in arts .\n"
     ]
    }
   ],
   "source": [
    "\"\"\"Write a python program that determines whether a student is eligible for PG course or not. \n",
    "To be eligible, the student must have obtained more than 80% in X and XII examination, \n",
    "and 70% plus marks in Graduation. \n",
    "If the student changes his stream (Science, Commerce, or Arts), then deduct 5% from his Graduation score.\"\"\"\n",
    "\n",
    "print(\"Welcome to PG eligibility checker\")\n",
    "a = int(input(\"Enter the percentage obtained in class X(Please enter without '%' symbol): \"))\n",
    "b = int(input(\"Enter the percentage obtained in class XII(Please enter without '%' symbol): \"))\n",
    "c = int(input(\"Enter the percentage obtained in class Graduation(Please enter without '%' symbol): \"))\n",
    "d = input(\"Stream selected for Graduation: \")\n",
    "e = input(\"Stream selecting for Post Graduation: \")\n",
    "if a > 80 and b > 80:\n",
    "    if  d != e:\n",
    "        c = c-5\n",
    "    if c > 70:\n",
    "        print(\"Congratulation you are eligible to apply for PG in\",e,\".\")\n",
    "    else:\n",
    "        print(\"Sorry you are not eligible to apply for PG.\")\n",
    "else:\n",
    "    print(\"Sorry you are not eligible to apply for PG.\")"
   ]
  },
  {
   "cell_type": "code",
   "execution_count": 2,
   "metadata": {},
   "outputs": [
    {
     "name": "stdout",
     "output_type": "stream",
     "text": [
      "Enter units: 489\n",
      "4310.0 Rs.\n"
     ]
    }
   ],
   "source": [
    "\"\"\"write a python program to calculate electricity bill based on following instructions\n",
    "0 to 150 Units - Rs. 3 per unit\n",
    "151-300 units - Rs.100 plus 3.75 per unit exceeding 150 units\n",
    "301 to 450 units - Rs. 250 plus 4 per unit exceeding 300 units\n",
    "451-600 units - Rs. 300 plus 4.25 per unit exceeding 450 units\n",
    "Above 600 - Rs.400 plus Rs. 5 per unit exceeding 600 units\"\"\"\n",
    "\n",
    "unit=int(input(\"Enter units: \"))\n",
    "\n",
    "if unit<0:\n",
    "    print(\"Enter correct value\")\n",
    "elif unit<=150:\n",
    "    bill=unit*3\n",
    "elif unit>150 and unit<=300:\n",
    "    bill=(unit*3)+(100+(unit-150)*3.75)\n",
    "elif unit>300 and unit<=450:\n",
    "    bill=(unit*3)+(100+(unit-150)*3.75)+(250+(unit-300)*4)\n",
    "elif unit>450 and unit<=600:\n",
    "    bill=(unit*3)+(100+(unit-150)*3.75)+(250+(unit-300)*4)+(300+(unit-450)*4.25)\n",
    "else:\n",
    "    bill=(unit*3)+(100+(unit-150)*3.75)+(250+(unit-300)*4)+(300+(unit-450)*4.25)+(400+(unit-600)*5)\n",
    "print(bill,\"Rs.\")"
   ]
  },
  {
   "cell_type": "code",
   "execution_count": 6,
   "metadata": {},
   "outputs": [
    {
     "name": "stdout",
     "output_type": "stream",
     "text": [
      "enter hour :9\n",
      "enter am (1) or pm (2) :1\n",
      "How many hours ahead ?:8\n",
      "New hour : 5pm\n"
     ]
    }
   ],
   "source": [
    "#incremented time\n",
    "user = int(input('enter hour :'))\n",
    "day = input('enter am (1) or pm (2) :')\n",
    "hour = int(input('How many hours ahead ?:'))\n",
    "if day == 'pm' :\n",
    "    user += 12;\n",
    "elif day == 'am' and user == 12:\n",
    "    user = 0;\n",
    "new_hour = user + hour;\n",
    "new_hour = new_hour % 24;\n",
    "\n",
    "if new_hour >= 0 and new_hour < 12:\n",
    "    new_hour = new_hour % 12 ;\n",
    "    if new_hour == 0:\n",
    "        new_hour = 12;\n",
    "        print(f'New hour : {new_hour}', end='am')\n",
    "    print()\n",
    "else:\n",
    "    new_hour = new_hour % 12;\n",
    "    if new_hour == 0:\n",
    "        new_hour = 12 ;\n",
    "    print(f'New hour : {new_hour}', end='pm')\n",
    "    print()"
   ]
  },
  {
   "cell_type": "code",
   "execution_count": 5,
   "metadata": {},
   "outputs": [
    {
     "name": "stdout",
     "output_type": "stream",
     "text": [
      "Enter 1--for Truck/bus, 2--for car, 3--for cycle/motorcycle/scooter: 1\n",
      "enter hour in 24hr format: 15\n",
      "Enter min: 23\n",
      "exit hour in 24 hr format: 18\n",
      "Exit min: 19\n",
      "parking rate is Rs. 20\n"
     ]
    }
   ],
   "source": [
    "\"\"\"Write a program to calculate parking fees. take input of entry time in hours and minute and exit time in hours and minutes.\n",
    "Parking rate for 3 hours will be: for Truck/bus-20Rs.\"\"\"\n",
    "\n",
    "vehicle=int(input(\"Enter 1--for Truck/bus, 2--for car, 3--for cycle/motorcycle/scooter: \"))\n",
    "enter_hr=int(input(\"enter hour in 24hr format: \"))\n",
    "enter_min=int(input(\"Enter min: \"))\n",
    "exit_hr=int(input(\"exit hour in 24 hr format: \"))\n",
    "exit_min=int(input(\"Exit min: \"))\n",
    "\n",
    "if exit_hr < enter_hr:\n",
    "    exit_hr+=24\n",
    "parking_time_hr=(exit_hr-enter_hr)\n",
    "parking_time_min=(exit_min-enter_min)\n",
    "\n",
    "if parking_time_hr<3 or (parking_time_hr==3 and parking_time_min<=0):\n",
    "    if vehicle==1:\n",
    "        rate=20\n",
    "    elif vehicle==2:\n",
    "        rate=10\n",
    "    elif vehicle==3:\n",
    "        rate=5\n",
    "elif parking_time_hr>3 or (parking_time_hr==3 and parking_time_min>0):\n",
    "    if vehicle==1:\n",
    "        rate=30\n",
    "    elif vehicle==2:\n",
    "        rate=20\n",
    "    elif vehicle==3:\n",
    "        rate=10\n",
    "print(\"parking rate is Rs.\",rate)"
   ]
  },
  {
   "cell_type": "code",
   "execution_count": 4,
   "metadata": {},
   "outputs": [
    {
     "name": "stdout",
     "output_type": "stream",
     "text": [
      "Enter 1--for Truck/bus, 2--for car, 3--for cycle/motorcycle/scooter: 2\n",
      "enter hour in 12hr format: 5\n",
      "Enter min: 20\n",
      "Enter AM or PM: AM\n",
      "exit hour in 12 hr format: 9\n",
      "Exit min: 50\n",
      "Enter AM or PM: PM\n",
      "Your parking charge is 20Rs.\n"
     ]
    }
   ],
   "source": [
    "\"\"\"Write a program to calculate parking fees. take input of entry time in hours and minute\n",
    "Parking rate for 3 hours will be: for Truck/bus-20Rs.\"\"\"\n",
    "vehicle=int(input(\"Enter 1--for Truck/bus, 2--for car, 3--for cycle/motorcycle/scooter: \"))\n",
    "enter_hr=int(input(\"enter hour in 12hr format: \"))\n",
    "enter_min=int(input(\"Enter min: \"))\n",
    "enter_am=input(\"Enter AM or PM: \")\n",
    "exit_hr=int(input(\"exit hour in 12 hr format: \"))\n",
    "exit_min=int(input(\"Exit min: \"))\n",
    "exit_am=input(\"Enter AM or PM: \")\n",
    "if enter_am=='PM' and enter_hr !=12:\n",
    "    enter_hr +=12\n",
    "if exit_am=='PM' and exit_hr !=12:\n",
    "    exit_hr +=12\n",
    "if enter_am=='AM' and enter_hr ==12:\n",
    "    enter_hr==0\n",
    "if exit_am=='AM' and exit_hr==12:\n",
    "    exit_hr==0\n",
    "if exit_hr<enter_hr:\n",
    "    exit_hr +=24\n",
    "parking_time_hr=(exit_hr-enter_hr)\n",
    "parking_time_min=(exit_min-enter_min)\n",
    "if parking_time_hr<3 or (parking_time_hr==3 and parking_time_min<=0):\n",
    "    if vehicle==1:\n",
    "        rate=20\n",
    "    elif vehicle==2:\n",
    "        rate=10\n",
    "    elif vehicle==3:\n",
    "        rate=5\n",
    "elif parking_time_hr>3 or (parking_time_hr==3 and parking_time_min>0):\n",
    "    if vehicle==1:\n",
    "        rate=30\n",
    "    elif vehicle==2:\n",
    "        rate=20\n",
    "    elif vehicle==3:\n",
    "        rate=10\n",
    "print(f\"Your parking charge is {rate}Rs.\")"
   ]
  },
  {
   "cell_type": "code",
   "execution_count": 6,
   "metadata": {},
   "outputs": [
    {
     "name": "stdout",
     "output_type": "stream",
     "text": [
      "count of vowels is: 3\n",
      "count of consonant is: 9\n",
      "count of words is: 3\n"
     ]
    }
   ],
   "source": [
    "#calculate vowel and consonant and number of words in given string.\n",
    "#Note: String don't have any special characters in it.\n",
    "\n",
    "vowel=0\n",
    "cons=0\n",
    "word=0\n",
    "a=\"this is python\"\n",
    "\n",
    "for i in a:\n",
    "    if i=='a' or i=='e' or i=='i' or i=='o' or i=='u' or i=='A' or i=='E' or i=='I' or i=='O' or i=='U':\n",
    "        vowel+=1\n",
    "    elif i!=\" \":\n",
    "        cons+=1\n",
    "    elif i==\" \":\n",
    "        word+=1\n",
    "print(\"count of vowels is:\",vowel)\n",
    "print(\"count of consonant is:\",cons)\n",
    "print(\"count of words is:\",word+1)"
   ]
  },
  {
   "cell_type": "code",
   "execution_count": 22,
   "metadata": {},
   "outputs": [
    {
     "name": "stdout",
     "output_type": "stream",
     "text": [
      "Enter upper limit:10\n",
      "3 4 5\n",
      "8 6 10\n"
     ]
    }
   ],
   "source": [
    "#Python Program to Find All Pythagorean Triplets in the Range\n",
    "#pythagorean triplets are the three numbers which follows pythagoros therom, a^2+b^2=c^2 -->then a,b,c is triplets.\n",
    "\n",
    "limit=int(input(\"Enter upper limit:\"))\n",
    "c=0\n",
    "m=2\n",
    "while(c<limit):\n",
    "    for n in range(1,m+1):\n",
    "        a=m*m-n*n\n",
    "        b=2*m*n\n",
    "        c=m*m+n*n\n",
    "        if(c>limit):\n",
    "            break\n",
    "        if(a==0 or b==0 or c==0):\n",
    "            break\n",
    "        print(a,b,c)\n",
    "    m=m+1"
   ]
  },
  {
   "cell_type": "code",
   "execution_count": 21,
   "metadata": {},
   "outputs": [
    {
     "name": "stdout",
     "output_type": "stream",
     "text": [
      "Enter a number: 4\n",
      "1 0 0 0 \n",
      "0 1 0 0 \n",
      "0 0 1 0 \n",
      "0 0 0 1 \n"
     ]
    }
   ],
   "source": [
    "#Python Program to Print an Identity Matrix\n",
    "\n",
    "n=int(input(\"Enter a number: \"))\n",
    "for i in range(0,n):\n",
    "    for j in range(0,n):\n",
    "        if(i==j):\n",
    "            print(\"1\",end=\" \")\n",
    "        else:\n",
    "            print(\"0\",end=\" \")\n",
    "    print()"
   ]
  },
  {
   "cell_type": "code",
   "execution_count": 7,
   "metadata": {
    "scrolled": true
   },
   "outputs": [
    {
     "name": "stdout",
     "output_type": "stream",
     "text": [
      "* * * * * * \n",
      "*         * \n",
      "*         * \n",
      "*         * \n",
      "*         * \n",
      "* * * * * * \n"
     ]
    }
   ],
   "source": [
    "for i in range(6):\n",
    "        for j in range(6):\n",
    "            if i==0 or i==5 or j==0 or j==5:\n",
    "                print (\"*\",end=\" \")\n",
    "            else:\n",
    "                print(\" \",end=\" \")\n",
    "        print()"
   ]
  },
  {
   "cell_type": "code",
   "execution_count": 8,
   "metadata": {},
   "outputs": [
    {
     "name": "stdout",
     "output_type": "stream",
     "text": [
      "* * * * * * \n",
      "*         * \n",
      "*         * \n",
      "* * * * * * \n",
      "*         * \n",
      "*         * \n",
      "*         * \n"
     ]
    }
   ],
   "source": [
    "for i in range(7):\n",
    "        for j in range(6):\n",
    "            if i==0 or i==3 or j==0 or j==5:\n",
    "                print (\"*\",end=\" \")\n",
    "            else:\n",
    "                print(\" \",end=\" \")\n",
    "        print()"
   ]
  },
  {
   "cell_type": "code",
   "execution_count": 5,
   "metadata": {
    "scrolled": true
   },
   "outputs": [
    {
     "name": "stdout",
     "output_type": "stream",
     "text": [
      "  ***  \n",
      " *   * \n",
      " *   * \n",
      " ***** \n",
      " *   * \n",
      " *   * \n",
      " *   * \n"
     ]
    }
   ],
   "source": [
    "for row in range(0,7):    \n",
    "    for column in range(0,7):     \n",
    "        if (((column == 1 or column == 5) and row != 0) or ((row == 0 or row == 3) and (column > 1 and column < 5))):    \n",
    "            print(\"*\",end=\"\")    \n",
    "        else:\n",
    "            print(\" \",end=\"\")\n",
    "    print()"
   ]
  },
  {
   "cell_type": "code",
   "execution_count": 14,
   "metadata": {},
   "outputs": [
    {
     "name": "stdout",
     "output_type": "stream",
     "text": [
      "        *         \n",
      "      *   *       \n",
      "    * * * * *     \n",
      "  *           *   \n",
      "*               * \n"
     ]
    }
   ],
   "source": [
    "for i in range(5):\n",
    "        for j in range(9):\n",
    "            if (i==0 and j==4) or (i==1 and (j==3 or j==5)) or (i==2 and (j==2 or j==3 or j==4 or j==5 or j==6)) or (i==3 and (j==1 or j==7)) or (i==4 and (j==0                                                                          or j==8)):\n",
    "                print (\"*\",end=\" \")\n",
    "            else:\n",
    "                print(\" \",end=\" \")\n",
    "        print()"
   ]
  },
  {
   "cell_type": "code",
   "execution_count": 4,
   "metadata": {},
   "outputs": [
    {
     "name": "stdout",
     "output_type": "stream",
     "text": [
      "* * * *   \n",
      "*       * \n",
      "*       * \n",
      "* * * *   \n",
      "*       * \n",
      "*       * \n",
      "* * * *   \n"
     ]
    }
   ],
   "source": [
    "for row in range(7):\n",
    "    for col in range(5):\n",
    "        if (col==0) or (col==4 and (row!=0 and row!=3 and row!=6)) or ((row==0 or row==3 or row==6) and (col>0 and col<4)):\n",
    "              print(\"*\",end=\" \")\n",
    "        else:\n",
    "            print(\" \", end=\" \")\n",
    "    print()"
   ]
  },
  {
   "cell_type": "code",
   "execution_count": 1,
   "metadata": {},
   "outputs": [
    {
     "name": "stdout",
     "output_type": "stream",
     "text": [
      "Please input side length of diamond: 8\n",
      "        \n",
      "       *\n",
      "      ***\n",
      "     *****\n",
      "    *******\n",
      "   *********\n",
      "  ***********\n",
      " *************\n",
      "***************\n",
      " *************\n",
      "  ***********\n",
      "   *********\n",
      "    *******\n",
      "     *****\n",
      "      ***\n",
      "       *\n"
     ]
    }
   ],
   "source": [
    "userInput = int(input(\"Please input side length of diamond: \"))\n",
    "\n",
    "if userInput > 0:              \n",
    "    for i in range(userInput):\n",
    "        for s in range (userInput - i) :\n",
    "            print(\" \", end=\"\")\n",
    "        for j in range((i * 2) - 1):\n",
    "            print(\"*\", end=\"\")\n",
    "        print()\n",
    "    for i in range(userInput, 0, -1):\n",
    "        for s in range (userInput - i) :\n",
    "            print(\" \", end=\"\")\n",
    "        for j in range((i * 2) - 1):\n",
    "            print(\"*\", end=\"\")\n",
    "        print()"
   ]
  },
  {
   "cell_type": "code",
   "execution_count": 21,
   "metadata": {},
   "outputs": [
    {
     "name": "stdout",
     "output_type": "stream",
     "text": [
      "      * \n",
      "     * * \n",
      "    * * * \n",
      "   * * * * \n",
      "  * * * * * \n",
      " * * * * * * \n",
      "* * * * * * * \n",
      " * * * * * * \n",
      "  * * * * * \n",
      "   * * * * \n",
      "    * * * \n",
      "     * * \n",
      "      * \n"
     ]
    }
   ],
   "source": [
    "for i in range(6):\n",
    "    for j in range(i,6):\n",
    "        print(\" \",end=\"\")\n",
    "    for k in range(0,i+1):\n",
    "        print(\"*\",end=\" \")\n",
    "    print()\n",
    "for i in range(7,0,-1):\n",
    "    for j in range(i,7):\n",
    "        print(\" \",end=\"\")\n",
    "    for k in range(0,i):\n",
    "        print(\"*\",end=\" \")\n",
    "    print()"
   ]
  },
  {
   "cell_type": "code",
   "execution_count": 6,
   "metadata": {},
   "outputs": [
    {
     "name": "stdout",
     "output_type": "stream",
     "text": [
      "    1   2   3   4   5   6   7   8   9   10 \n",
      "      2   3   4   5   6   7   8   9   10 \n",
      "        3   4   5   6   7   8   9   10 \n",
      "          4   5   6   7   8   9   10 \n",
      "            5   6   7   8   9   10 \n",
      "              6   7   8   9   10 \n",
      "                7   8   9   10 \n",
      "                  8   9   10 \n",
      "                    9   10 \n",
      "                      10 \n",
      "                    10   9 \n",
      "                  10   9   8 \n",
      "                10   9   8   7 \n",
      "              10   9   8   7   6 \n",
      "            10   9   8   7   6   5 \n",
      "          10   9   8   7   6   5   4 \n",
      "        10   9   8   7   6   5   4   3 \n",
      "      10   9   8   7   6   5   4   3   2 \n",
      "    10   9   8   7   6   5   4   3   2   1 \n"
     ]
    }
   ],
   "source": [
    "for i in range(1,11):\n",
    "    for k in range(i):\n",
    "        print(\" \",end=\" \")\n",
    "    for j in range(i,11):\n",
    "        print(\" \",j,end=\" \")\n",
    "    print()\n",
    "for i in range(2,11):\n",
    "    for k in range(11,i,-1):\n",
    "        print(\" \",end=\" \")\n",
    "    for j in range(10,10-i,-1):\n",
    "        print(\" \",j,end=\" \")\n",
    "    print()"
   ]
  },
  {
   "cell_type": "code",
   "execution_count": 2,
   "metadata": {},
   "outputs": [
    {
     "name": "stdout",
     "output_type": "stream",
     "text": [
      "Enter marks or done10\n",
      "Enter marks or done56\n",
      "Enter marks or done23\n",
      "Enter marks or done100\n",
      "Enter marks or done0\n",
      "Enter marks or done101\n",
      "Enter marks or done-1\n",
      "Enter marks or donedone\n",
      "1st Maximum marks 100\n",
      "2nd Maximum marks 56\n"
     ]
    }
   ],
   "source": [
    "count=0\n",
    "f_h=-1\n",
    "s_h=-1\n",
    "while(True):\n",
    "    n=input(\"Enter marks or done\")\n",
    "    \n",
    "    if n=='done':\n",
    "        break\n",
    "    \n",
    "    n=int(n)\n",
    "    if n<0 or n>100:\n",
    "        continue\n",
    "    count+=1\n",
    "    if n>f_h:\n",
    "        s_h=f_h\n",
    "        f_h=n\n",
    "    elif n>s_h and n!=f_h:\n",
    "        s_h=n\n",
    "    \n",
    "print(\"1st Maximum marks\",f_h)\n",
    "print(\"2nd Maximum marks\",s_h)"
   ]
  },
  {
   "cell_type": "code",
   "execution_count": 3,
   "metadata": {},
   "outputs": [
    {
     "name": "stdout",
     "output_type": "stream",
     "text": [
      "Enter marks or done45\n",
      "Enter marks or done100\n",
      "Enter marks or done-1\n",
      "Enter marks or done105\n",
      "Enter marks or done-8\n",
      "Enter marks or done3\n",
      "Enter marks or done8\n",
      "Enter marks or donedone\n",
      "The first lowest number is: 3\n",
      "The second lowest number is: 8\n"
     ]
    }
   ],
   "source": [
    "# Initialize variables to store the first and second lowest numbers\n",
    "first_lowest = None\n",
    "second_lowest = None\n",
    "\n",
    "# Initialize a variable to keep track of the number of numbers entered\n",
    "num_numbers = 0\n",
    "\n",
    "# Prompt the user to enter numbers until they enter a non-integer value\n",
    "while(True):\n",
    "    number=input(\"Enter marks or done\")\n",
    "    \n",
    "    if number=='done':\n",
    "        break\n",
    "#while True:\n",
    "    #try:\n",
    "     #   number = int(input(\"Enter a number (or a non-integer value to stop): \")\n",
    "   # except ValueError:\n",
    "    #    break\n",
    "    number=int(number)\n",
    "    if number<0 or number>100:\n",
    "        continue\n",
    "    num_numbers += 1\n",
    "\n",
    "    if first_lowest is None or number < first_lowest:\n",
    "        second_lowest = first_lowest\n",
    "        first_lowest = number\n",
    "    elif second_lowest is None or number < second_lowest:\n",
    "        second_lowest = number\n",
    "\n",
    "if num_numbers < 2:\n",
    "    print(\"Please enter at least two numbers to find the first and second lowest.\")\n",
    "else:\n",
    "    print(\"The first lowest number is:\", first_lowest)\n",
    "    print(\"The second lowest number is:\", second_lowest)"
   ]
  },
  {
   "cell_type": "code",
   "execution_count": 1,
   "metadata": {},
   "outputs": [
    {
     "name": "stdout",
     "output_type": "stream",
     "text": [
      "Enter a year (1900-2099): 2022\n",
      "The date of Easter Sunday in 2022 is: 2022-04-17\n"
     ]
    }
   ],
   "source": [
    "#qb-187\n",
    "def calculate_easter_date(year):\n",
    "    a = year % 19\n",
    "    b = year % 4\n",
    "    c = year % 7\n",
    "    d = (19 * a + 24) % 30\n",
    "    e = (2 * b + 4 * c + 6 * d + 5) % 7\n",
    "\n",
    "    date_of_easter = 22 + d + e\n",
    "\n",
    "    # Check if the date is in April\n",
    "    if date_of_easter > 31:\n",
    "        date_of_easter -= 31\n",
    "\n",
    "    # Check if the year is one of the special years and subtract 7 from the date\n",
    "    if year==1954 or year==1981 or year== 2049 or year==2076:\n",
    "        date_of_easter -= 7\n",
    "\n",
    "    return f\"{year}-04-{date_of_easter:02}\"\n",
    "\n",
    "# Get user input for the year\n",
    "year_input = int(input(\"Enter a year (1900-2099): \"))\n",
    "\n",
    "# Validate input year\n",
    "if 1900 <= year_input <= 2099:\n",
    "    easter_date = calculate_easter_date(year_input)\n",
    "    print(f\"The date of Easter Sunday in {year_input} is: {easter_date}\")\n",
    "else:\n",
    "    print(\"Please enter a valid year between 1900 and 2099.\")"
   ]
  },
  {
   "cell_type": "code",
   "execution_count": 3,
   "metadata": {},
   "outputs": [
    {
     "name": "stdout",
     "output_type": "stream",
     "text": [
      "Enter a single-digit integer: 6\n",
      "111116\n",
      "111123\n",
      "111132\n",
      "111161\n",
      "111213\n",
      "111231\n",
      "111312\n",
      "111321\n",
      "111611\n",
      "112113\n",
      "112131\n",
      "112311\n",
      "113112\n",
      "113121\n",
      "113211\n",
      "116111\n",
      "121113\n",
      "121131\n",
      "121311\n",
      "123111\n",
      "131112\n",
      "131121\n",
      "131211\n",
      "132111\n",
      "161111\n",
      "211113\n",
      "211131\n",
      "211311\n",
      "213111\n",
      "231111\n",
      "311112\n",
      "311121\n",
      "311211\n",
      "312111\n",
      "321111\n",
      "611111\n"
     ]
    }
   ],
   "source": [
    "#qb-191\n",
    "def find_numbers_with_product(target_product):\n",
    "    # Ensure the target product is a single-digit integer\n",
    "    if target_product < 0 or target_product > 9:\n",
    "        print(\"Please enter a single-digit integer.\")\n",
    "        return\n",
    "\n",
    "    # Loop through all possible combinations of 6-digit numbers\n",
    "    for i in range(100000, 1000000):\n",
    "        product = 1\n",
    "        for digit in str(i):\n",
    "            product *= int(digit)\n",
    "\n",
    "        # Check if the product matches the target product\n",
    "        if product == target_product:\n",
    "            print(i)\n",
    "\n",
    "# Get input from the user\n",
    "target_product = int(input(\"Enter a single-digit integer: \"))\n",
    "find_numbers_with_product(target_product)\n",
    "# except ValueError:\n",
    "#     print(\"Please enter a valid integer.\")"
   ]
  },
  {
   "cell_type": "code",
   "execution_count": 4,
   "metadata": {},
   "outputs": [
    {
     "name": "stdout",
     "output_type": "stream",
     "text": [
      "1729 = 1^3 + 12^3 = 9^3 + 10^3\n",
      "1729 = 9^3 + 10^3 = 1^3 + 12^3\n"
     ]
    }
   ],
   "source": [
    "#The Hardy-Ramanujan number\n",
    "for n in range(1, 2000):  # You can adjust the range as needed\n",
    "    max_value = int(n ** (1/3)) + 1  # Cube root of n\n",
    "\n",
    "    for a in range(1, max_value):\n",
    "        for b in range(a, max_value):\n",
    "            for c in range(1, max_value):\n",
    "                for d in range(c, max_value):\n",
    "                    if a**3 + b**3 == n and c**3 + d**3 == n:\n",
    "                        if a != c:\n",
    "                            print(f\"{n} = {a}^3 + {b}^3 = {c}^3 + {d}^3\")"
   ]
  },
  {
   "cell_type": "code",
   "execution_count": 5,
   "metadata": {},
   "outputs": [
    {
     "name": "stdout",
     "output_type": "stream",
     "text": [
      "List of happy numbers between 1 and 100: \n",
      "1 7 10 13 19 23 28 31 32 44 49 68 70 79 82 86 91 94 97 100 "
     ]
    }
   ],
   "source": [
    "def isHappyNumber(num):  \n",
    "    rem = sum = 0;  \n",
    "      \n",
    "    #Calculates the sum of squares of digits  \n",
    "    while(num > 0):  \n",
    "        rem = num%10;  \n",
    "        sum = sum + (rem*rem);  \n",
    "        num = num//10;  \n",
    "    return sum;  \n",
    "          \n",
    "#Displays all happy numbers between 1 and 100  \n",
    "print(\"List of happy numbers between 1 and 100: \");  \n",
    "for i in range(1, 101):  \n",
    "    result = i;  \n",
    "      \n",
    "    #Happy number always ends with 1 and   \n",
    "    #unhappy number ends in a cycle of repeating numbers which contains 4  \n",
    "    while(result != 1 and result != 4):  \n",
    "        result = isHappyNumber(result);  \n",
    "      \n",
    "    if(result == 1):  \n",
    "        print(i,end=\" \"),  \n",
    "        "
   ]
  },
  {
   "cell_type": "code",
   "execution_count": 6,
   "metadata": {},
   "outputs": [
    {
     "name": "stdout",
     "output_type": "stream",
     "text": [
      "Enter n: 10\n",
      "Sequence: 10 5 16 8 4 2 1"
     ]
    }
   ],
   "source": [
    "# Python Program to Test Collatz Conjecture for a Given Numberdef collatz(n):\n",
    "# The Collatz conjecture is a conjecture that a\n",
    "# particular sequence always reaches 1. The sequence \n",
    "# is defined as: start with a number n. \n",
    "# The next number in the sequence is n/2 if n is even and 3n + 1 if n is odd.\n",
    "def collatz(n):\n",
    "    while n > 1:\n",
    "        print(n, end=' ')        \n",
    "        if (n % 2):\n",
    "            # n is odd\n",
    "            n = 3*n + 1\n",
    "        else:\n",
    "            # n is even\n",
    "            n = n//2\n",
    "    print(1, end='')\n",
    " \n",
    "n = int(input('Enter n: '))\n",
    "print('Sequence: ', end='')\n",
    "collatz(n)"
   ]
  },
  {
   "cell_type": "code",
   "execution_count": 7,
   "metadata": {},
   "outputs": [
    {
     "name": "stdout",
     "output_type": "stream",
     "text": [
      "165\n"
     ]
    }
   ],
   "source": [
    "#add money in your pigi nank. start from monday with rs.1. increase rs.1 every day. \n",
    "#next monday start with rs. 2 ...follow same as...calculate moiney after 30 days\n",
    "sum=0\n",
    "d=30\n",
    "m=1\n",
    "sun=7\n",
    "s=d//7\n",
    "#d=d%7\n",
    "for i in range(s):\n",
    "    for j in range(m,sun+1):\n",
    "        sum+=j\n",
    "    m+=1\n",
    "    sun+=1\n",
    "for k in range(d%7):\n",
    "    sum=sum+m\n",
    "    m=m+1    \n",
    "print(sum)"
   ]
  },
  {
   "cell_type": "code",
   "execution_count": 8,
   "metadata": {},
   "outputs": [
    {
     "name": "stdout",
     "output_type": "stream",
     "text": [
      "yes\n"
     ]
    }
   ],
   "source": [
    "#disarium number\n",
    "#disarium\n",
    "x=518\n",
    "t=x\n",
    "c=0\n",
    "while x!=0:\n",
    "    c+=1\n",
    "    x//=10\n",
    "x=t\n",
    "s=0\n",
    "while x!=0:\n",
    "    r=x%10\n",
    "    s=s+r**c\n",
    "    c-=1\n",
    "    x//=10\n",
    "if s==t:\n",
    "    print(\"yes\")\n",
    "else:\n",
    "    print(\"no\")"
   ]
  },
  {
   "cell_type": "code",
   "execution_count": null,
   "metadata": {},
   "outputs": [],
   "source": []
  }
 ],
 "metadata": {
  "kernelspec": {
   "display_name": "Python 3",
   "language": "python",
   "name": "python3"
  },
  "language_info": {
   "codemirror_mode": {
    "name": "ipython",
    "version": 3
   },
   "file_extension": ".py",
   "mimetype": "text/x-python",
   "name": "python",
   "nbconvert_exporter": "python",
   "pygments_lexer": "ipython3",
   "version": "3.8.5"
  }
 },
 "nbformat": 4,
 "nbformat_minor": 5
}
